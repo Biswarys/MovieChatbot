{
  "nbformat": 4,
  "nbformat_minor": 0,
  "metadata": {
    "colab": {
      "provenance": [],
      "machine_shape": "hm"
    },
    "kernelspec": {
      "name": "python3",
      "display_name": "Python 3"
    },
    "language_info": {
      "name": "python"
    }
  },
  "cells": [
    {
      "cell_type": "markdown",
      "source": [
        "**Movie-Show Recommender ChatBot**\n",
        "\n",
        "This project creates a ChatBot which can suggest viewers what movies or shows to watch based on the input it gets from user such as genre, actors, maturity rating etc."
      ],
      "metadata": {
        "id": "Mp8MWqxdlHve"
      }
    },
    {
      "cell_type": "code",
      "execution_count": null,
      "metadata": {
        "colab": {
          "base_uri": "https://localhost:8080/"
        },
        "id": "jvhoBmTnRERH",
        "outputId": "ee794195-6536-4c6f-dfcd-47d646a0a6e2"
      },
      "outputs": [
        {
          "output_type": "stream",
          "name": "stdout",
          "text": [
            "Collecting openai\n",
            "  Downloading openai-1.30.3-py3-none-any.whl (320 kB)\n",
            "\u001b[2K     \u001b[90m━━━━━━━━━━━━━━━━━━━━━━━━━━━━━━━━━━━━━━━━\u001b[0m \u001b[32m320.6/320.6 kB\u001b[0m \u001b[31m2.6 MB/s\u001b[0m eta \u001b[36m0:00:00\u001b[0m\n",
            "\u001b[?25hRequirement already satisfied: anyio<5,>=3.5.0 in /usr/local/lib/python3.10/dist-packages (from openai) (3.7.1)\n",
            "Requirement already satisfied: distro<2,>=1.7.0 in /usr/lib/python3/dist-packages (from openai) (1.7.0)\n",
            "Collecting httpx<1,>=0.23.0 (from openai)\n",
            "  Downloading httpx-0.27.0-py3-none-any.whl (75 kB)\n",
            "\u001b[2K     \u001b[90m━━━━━━━━━━━━━━━━━━━━━━━━━━━━━━━━━━━━━━━━\u001b[0m \u001b[32m75.6/75.6 kB\u001b[0m \u001b[31m7.3 MB/s\u001b[0m eta \u001b[36m0:00:00\u001b[0m\n",
            "\u001b[?25hRequirement already satisfied: pydantic<3,>=1.9.0 in /usr/local/lib/python3.10/dist-packages (from openai) (2.7.1)\n",
            "Requirement already satisfied: sniffio in /usr/local/lib/python3.10/dist-packages (from openai) (1.3.1)\n",
            "Requirement already satisfied: tqdm>4 in /usr/local/lib/python3.10/dist-packages (from openai) (4.66.4)\n",
            "Requirement already satisfied: typing-extensions<5,>=4.7 in /usr/local/lib/python3.10/dist-packages (from openai) (4.11.0)\n",
            "Requirement already satisfied: idna>=2.8 in /usr/local/lib/python3.10/dist-packages (from anyio<5,>=3.5.0->openai) (3.7)\n",
            "Requirement already satisfied: exceptiongroup in /usr/local/lib/python3.10/dist-packages (from anyio<5,>=3.5.0->openai) (1.2.1)\n",
            "Requirement already satisfied: certifi in /usr/local/lib/python3.10/dist-packages (from httpx<1,>=0.23.0->openai) (2024.2.2)\n",
            "Collecting httpcore==1.* (from httpx<1,>=0.23.0->openai)\n",
            "  Downloading httpcore-1.0.5-py3-none-any.whl (77 kB)\n",
            "\u001b[2K     \u001b[90m━━━━━━━━━━━━━━━━━━━━━━━━━━━━━━━━━━━━━━━━\u001b[0m \u001b[32m77.9/77.9 kB\u001b[0m \u001b[31m8.3 MB/s\u001b[0m eta \u001b[36m0:00:00\u001b[0m\n",
            "\u001b[?25hCollecting h11<0.15,>=0.13 (from httpcore==1.*->httpx<1,>=0.23.0->openai)\n",
            "  Downloading h11-0.14.0-py3-none-any.whl (58 kB)\n",
            "\u001b[2K     \u001b[90m━━━━━━━━━━━━━━━━━━━━━━━━━━━━━━━━━━━━━━━━\u001b[0m \u001b[32m58.3/58.3 kB\u001b[0m \u001b[31m5.6 MB/s\u001b[0m eta \u001b[36m0:00:00\u001b[0m\n",
            "\u001b[?25hRequirement already satisfied: annotated-types>=0.4.0 in /usr/local/lib/python3.10/dist-packages (from pydantic<3,>=1.9.0->openai) (0.7.0)\n",
            "Requirement already satisfied: pydantic-core==2.18.2 in /usr/local/lib/python3.10/dist-packages (from pydantic<3,>=1.9.0->openai) (2.18.2)\n",
            "Installing collected packages: h11, httpcore, httpx, openai\n",
            "Successfully installed h11-0.14.0 httpcore-1.0.5 httpx-0.27.0 openai-1.30.3\n"
          ]
        }
      ],
      "source": [
        "!pip install openai --upgrade"
      ]
    },
    {
      "cell_type": "code",
      "source": [
        "from openai import OpenAI\n",
        "import pandas as pd\n",
        "\n",
        "# Set your OpenAI API key\n",
        "client = OpenAI(\n",
        "    api_key=\"sk-proj-vuAWkL1IEVoOS6rSlNxjT3BlbkFJzjJjr72iaS0fZss0Ng2R\",\n",
        ")\n",
        "\n",
        "# Function to clean and load Netflix data from CSV\n",
        "def load_netflix_data(path='/content/drive/MyDrive/ChatBot/Dataset.csv'):\n",
        "    netflix_df = pd.read_csv('/content/drive/MyDrive/ChatBot/Dataset.csv')\n",
        "    netflix_df.fillna(\"\", inplace=True)  # Replace NaN with empty strings\n",
        "    netflix_data = []\n",
        "    for _, row in netflix_df.iterrows():\n",
        "        netflix_data.append({\n",
        "            \"title\": row['title'].strip().lower(),\n",
        "            \"type\": row['type'].strip().lower(),\n",
        "            \"description\": row['description'].strip(),\n",
        "            \"rating\": row['rating'].strip(),\n",
        "            \"listed_in\": row['listed_in'].strip().lower(),\n",
        "            \"duration\": row['duration'].strip(),\n",
        "            \"date_added\": row['date_added'].strip(),\n",
        "            \"cast\": row['cast'].strip().lower(),\n",
        "            \"director\": row['director'].strip(),\n",
        "            \"release_year\": row['release_year'],\n",
        "            \"country\": row['country'].strip()\n",
        "        })\n",
        "    return netflix_data\n",
        "\n",
        "# Load the Netflix data from CSV file\n",
        "netflix_data = load_netflix_data('/content/drive/MyDrive/ChatBot/Dataset.csv')\n",
        "\n",
        "# Function to list unique genres for debugging\n",
        "def list_unique_genres():\n",
        "    unique_genres = set()\n",
        "    for item in netflix_data:\n",
        "        genres = item['listed_in'].split(\", \")\n",
        "        for genre in genres:\n",
        "            unique_genres.add(genre)\n",
        "\n",
        "list_unique_genres()\n",
        "\n",
        "def generate_response(user_input):\n",
        "    chat_completion = client.chat.completions.create(\n",
        "        messages=[\n",
        "            {\"role\": \"system\", \"content\": \"You are a helpful Netflix recommendation assistant.\"},\n",
        "            {\"role\": \"user\", \"content\": user_input}\n",
        "        ],\n",
        "        model=\"gpt-3.5-turbo\",\n",
        "        max_tokens=150,\n",
        "        n=1,\n",
        "        stop=None,\n",
        "        temperature=0.7,\n",
        "    )\n",
        "    message = chat_completion.choices[0].message.content.strip()\n",
        "    return message\n",
        "\n",
        "\n",
        "def get_recommendations(content_type=None, genre=None, actor=None):\n",
        "    filtered_data = netflix_data\n",
        "    if content_type:\n",
        "        filtered_data = [item for item in filtered_data if content_type in item['type']]\n",
        "    if genre:\n",
        "        filtered_data = [item for item in filtered_data if genre in item['listed_in']]\n",
        "    if actor:\n",
        "        filtered_data = [item for item in filtered_data if actor in item['cast']]\n",
        "\n",
        "    if not filtered_data:\n",
        "        return \"I'm sorry, I don't have any recommendations for that criteria at the moment.\"\n",
        "\n",
        "    recommendations = \"\\n\".join([\n",
        "        f\"{item['title']} (Rating: {item['rating']}): {item['description']} - {item['listed_in']}\"\n",
        "        for item in filtered_data[:5]  # Limiting to top 5 recommendations\n",
        "    ])\n",
        "    return f\"Here are some recommendations:\\n{recommendations}\"\n",
        "\n",
        "def extract_genre_and_actor(user_input_lower):\n",
        "    genre = None\n",
        "    actor = None\n",
        "    tokens = user_input_lower.split()\n",
        "    if \"movie\" in tokens:\n",
        "        genre_index = tokens.index(\"movie\") + 1\n",
        "    elif \"show\" in tokens:\n",
        "        genre_index = tokens.index(\"show\") + 1\n",
        "    else:\n",
        "        genre_index = -1\n",
        "\n",
        "    if genre_index > 0 and genre_index < len(tokens):\n",
        "        genre = tokens[genre_index].strip()\n",
        "\n",
        "    if \"actor\" in user_input_lower:\n",
        "        actor = user_input_lower.split(\"actor\")[-1].strip()\n",
        "\n",
        "    return genre, actor\n",
        "\n",
        "# Interactive function for user input\n",
        "def get_user_input():\n",
        "    user_input = input(\"Enter your request: \")\n",
        "    user_input_lower = user_input.lower()\n",
        "\n",
        "    genre, actor = extract_genre_and_actor(user_input_lower)\n",
        "    content_type = \"movie\" if \"movie\" in user_input_lower else \"show\" if \"show\" in user_input_lower else None\n",
        "\n",
        "    if content_type:\n",
        "        recommendations = get_recommendations(content_type, genre, actor)\n",
        "        print(recommendations)\n",
        "    else:\n",
        "        response_message = generate_response(user_input)\n",
        "        print(response_message)\n",
        "\n",
        "# Example Us\n",
        "get_user_input()"
      ],
      "metadata": {
        "colab": {
          "base_uri": "https://localhost:8080/"
        },
        "id": "pQIW-s5dXz0e",
        "outputId": "da2f9381-48a7-4eda-dd07-373a62b3880a"
      },
      "execution_count": null,
      "outputs": [
        {
          "output_type": "stream",
          "name": "stdout",
          "text": [
            "Enter your request: horror movies\n",
            "Here are some recommendations:\n",
            "dick johnson is dead (Rating: PG-13): As her father nears the end of his life, filmmaker Kirsten Johnson stages his death in inventive and comical ways to help them both face the inevitable. - documentaries\n",
            "my little pony: a new generation (Rating: PG): Equestria's divided. But a bright-eyed hero believes Earth Ponies, Pegasi and Unicorns should be pals — and, hoof to heart, she’s determined to prove it. - children & family movies\n",
            "sankofa (Rating: TV-MA): On a photo shoot in Ghana, an American model slips back in time, becomes enslaved on a plantation and bears witness to the agony of her ancestral past. - dramas, independent movies, international movies\n",
            "the starling (Rating: PG-13): A woman adjusting to life after a loss contends with a feisty bird that's taken over her garden — and a husband who's struggling to find a way forward. - comedies, dramas\n",
            "je suis karl (Rating: TV-MA): After most of her family is murdered in a terrorist bombing, a young woman is unknowingly lured into joining the very group that killed them. - dramas, international movies\n"
          ]
        }
      ]
    }
  ]
}